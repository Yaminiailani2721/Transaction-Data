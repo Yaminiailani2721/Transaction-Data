{
 "cells": [
  {
   "cell_type": "markdown",
   "id": "0ba3a1f3",
   "metadata": {},
   "source": [
    "# Import basic libraries"
   ]
  },
  {
   "cell_type": "code",
   "execution_count": 2,
   "id": "0f60eca7",
   "metadata": {},
   "outputs": [],
   "source": [
    "import pandas as pd\n",
    "import numpy as np\n",
    "import seaborn as sns\n",
    "import matplotlib.pyplot as plt"
   ]
  },
  {
   "cell_type": "markdown",
   "id": "f0fab34c",
   "metadata": {},
   "source": [
    "# Load the data set"
   ]
  },
  {
   "cell_type": "code",
   "execution_count": 55,
   "id": "72427f98",
   "metadata": {},
   "outputs": [],
   "source": [
    "df=pd.read_csv('Transaction data.csv')"
   ]
  },
  {
   "cell_type": "markdown",
   "id": "4c1fbb3a",
   "metadata": {},
   "source": [
    "# Understand the basci things about data"
   ]
  },
  {
   "cell_type": "markdown",
   "id": "43b1f326",
   "metadata": {},
   "source": [
    "## How big is the data?"
   ]
  },
  {
   "cell_type": "code",
   "execution_count": 4,
   "id": "586b6c06",
   "metadata": {},
   "outputs": [
    {
     "data": {
      "text/plain": [
       "(1000, 74)"
      ]
     },
     "execution_count": 4,
     "metadata": {},
     "output_type": "execute_result"
    }
   ],
   "source": [
    "df.shape"
   ]
  },
  {
   "cell_type": "markdown",
   "id": "715412cb",
   "metadata": {},
   "source": [
    "## How does the data look like?"
   ]
  },
  {
   "cell_type": "code",
   "execution_count": 56,
   "id": "ecc1dbff",
   "metadata": {},
   "outputs": [
    {
     "data": {
      "text/html": [
       "<div>\n",
       "<style scoped>\n",
       "    .dataframe tbody tr th:only-of-type {\n",
       "        vertical-align: middle;\n",
       "    }\n",
       "\n",
       "    .dataframe tbody tr th {\n",
       "        vertical-align: top;\n",
       "    }\n",
       "\n",
       "    .dataframe thead th {\n",
       "        text-align: right;\n",
       "    }\n",
       "</style>\n",
       "<table border=\"1\" class=\"dataframe\">\n",
       "  <thead>\n",
       "    <tr style=\"text-align: right;\">\n",
       "      <th></th>\n",
       "      <th>txn_detail_id</th>\n",
       "      <th>txn_id</th>\n",
       "      <th>linked_txn_id</th>\n",
       "      <th>sale_line_type</th>\n",
       "      <th>sale_line_sub_type</th>\n",
       "      <th>sale_line_num</th>\n",
       "      <th>src_txn_cd</th>\n",
       "      <th>src_txn_cd_desc</th>\n",
       "      <th>src_txn_detail_id</th>\n",
       "      <th>sale_dt</th>\n",
       "      <th>...</th>\n",
       "      <th>local_returned_price</th>\n",
       "      <th>usd_returned_price</th>\n",
       "      <th>visit_qualifying_flag</th>\n",
       "      <th>returned_days_from_sale</th>\n",
       "      <th>return_status</th>\n",
       "      <th>return_item_qty</th>\n",
       "      <th>store_num</th>\n",
       "      <th>channel_cd</th>\n",
       "      <th>phone_order_ind</th>\n",
       "      <th>market_id</th>\n",
       "    </tr>\n",
       "  </thead>\n",
       "  <tbody>\n",
       "    <tr>\n",
       "      <th>0</th>\n",
       "      <td>2026484142</td>\n",
       "      <td>543519430</td>\n",
       "      <td>NaN</td>\n",
       "      <td>Other</td>\n",
       "      <td>NaN</td>\n",
       "      <td>20</td>\n",
       "      <td>DN</td>\n",
       "      <td>NaN</td>\n",
       "      <td>NaN</td>\n",
       "      <td>9/1/2022</td>\n",
       "      <td>...</td>\n",
       "      <td>0</td>\n",
       "      <td>0</td>\n",
       "      <td>N</td>\n",
       "      <td>NaN</td>\n",
       "      <td>NaN</td>\n",
       "      <td>NaN</td>\n",
       "      <td>21999</td>\n",
       "      <td>WEB</td>\n",
       "      <td>NaN</td>\n",
       "      <td>1</td>\n",
       "    </tr>\n",
       "    <tr>\n",
       "      <th>1</th>\n",
       "      <td>2026065451</td>\n",
       "      <td>543472228</td>\n",
       "      <td>NaN</td>\n",
       "      <td>Other</td>\n",
       "      <td>NaN</td>\n",
       "      <td>20</td>\n",
       "      <td>DN</td>\n",
       "      <td>NaN</td>\n",
       "      <td>NaN</td>\n",
       "      <td>8/30/2022</td>\n",
       "      <td>...</td>\n",
       "      <td>0</td>\n",
       "      <td>0</td>\n",
       "      <td>N</td>\n",
       "      <td>NaN</td>\n",
       "      <td>NaN</td>\n",
       "      <td>NaN</td>\n",
       "      <td>11700</td>\n",
       "      <td>WEB</td>\n",
       "      <td>NaN</td>\n",
       "      <td>1</td>\n",
       "    </tr>\n",
       "    <tr>\n",
       "      <th>2</th>\n",
       "      <td>2026778316</td>\n",
       "      <td>543554612</td>\n",
       "      <td>NaN</td>\n",
       "      <td>Other</td>\n",
       "      <td>NaN</td>\n",
       "      <td>30</td>\n",
       "      <td>DN</td>\n",
       "      <td>NaN</td>\n",
       "      <td>NaN</td>\n",
       "      <td>9/2/2022</td>\n",
       "      <td>...</td>\n",
       "      <td>0</td>\n",
       "      <td>0</td>\n",
       "      <td>N</td>\n",
       "      <td>NaN</td>\n",
       "      <td>NaN</td>\n",
       "      <td>NaN</td>\n",
       "      <td>27700</td>\n",
       "      <td>Mobile</td>\n",
       "      <td>NaN</td>\n",
       "      <td>1</td>\n",
       "    </tr>\n",
       "    <tr>\n",
       "      <th>3</th>\n",
       "      <td>2026719630</td>\n",
       "      <td>543547922</td>\n",
       "      <td>NaN</td>\n",
       "      <td>Other</td>\n",
       "      <td>NaN</td>\n",
       "      <td>40</td>\n",
       "      <td>DN</td>\n",
       "      <td>NaN</td>\n",
       "      <td>NaN</td>\n",
       "      <td>9/2/2022</td>\n",
       "      <td>...</td>\n",
       "      <td>0</td>\n",
       "      <td>0</td>\n",
       "      <td>N</td>\n",
       "      <td>NaN</td>\n",
       "      <td>NaN</td>\n",
       "      <td>NaN</td>\n",
       "      <td>41700</td>\n",
       "      <td>Mobile</td>\n",
       "      <td>NaN</td>\n",
       "      <td>1</td>\n",
       "    </tr>\n",
       "    <tr>\n",
       "      <th>4</th>\n",
       "      <td>2026760180</td>\n",
       "      <td>543552520</td>\n",
       "      <td>NaN</td>\n",
       "      <td>Other</td>\n",
       "      <td>NaN</td>\n",
       "      <td>20</td>\n",
       "      <td>DN</td>\n",
       "      <td>NaN</td>\n",
       "      <td>NaN</td>\n",
       "      <td>9/2/2022</td>\n",
       "      <td>...</td>\n",
       "      <td>0</td>\n",
       "      <td>0</td>\n",
       "      <td>N</td>\n",
       "      <td>NaN</td>\n",
       "      <td>NaN</td>\n",
       "      <td>NaN</td>\n",
       "      <td>3700</td>\n",
       "      <td>WEB</td>\n",
       "      <td>NaN</td>\n",
       "      <td>1</td>\n",
       "    </tr>\n",
       "  </tbody>\n",
       "</table>\n",
       "<p>5 rows × 74 columns</p>\n",
       "</div>"
      ],
      "text/plain": [
       "   txn_detail_id     txn_id  linked_txn_id sale_line_type sale_line_sub_type  \\\n",
       "0     2026484142  543519430            NaN          Other                NaN   \n",
       "1     2026065451  543472228            NaN          Other                NaN   \n",
       "2     2026778316  543554612            NaN          Other                NaN   \n",
       "3     2026719630  543547922            NaN          Other                NaN   \n",
       "4     2026760180  543552520            NaN          Other                NaN   \n",
       "\n",
       "   sale_line_num src_txn_cd src_txn_cd_desc  src_txn_detail_id    sale_dt  \\\n",
       "0             20         DN             NaN                NaN   9/1/2022   \n",
       "1             20         DN             NaN                NaN  8/30/2022   \n",
       "2             30         DN             NaN                NaN   9/2/2022   \n",
       "3             40         DN             NaN                NaN   9/2/2022   \n",
       "4             20         DN             NaN                NaN   9/2/2022   \n",
       "\n",
       "   ...  local_returned_price  usd_returned_price  visit_qualifying_flag  \\\n",
       "0  ...                     0                   0                      N   \n",
       "1  ...                     0                   0                      N   \n",
       "2  ...                     0                   0                      N   \n",
       "3  ...                     0                   0                      N   \n",
       "4  ...                     0                   0                      N   \n",
       "\n",
       "   returned_days_from_sale  return_status  return_item_qty  store_num  \\\n",
       "0                      NaN            NaN              NaN      21999   \n",
       "1                      NaN            NaN              NaN      11700   \n",
       "2                      NaN            NaN              NaN      27700   \n",
       "3                      NaN            NaN              NaN      41700   \n",
       "4                      NaN            NaN              NaN       3700   \n",
       "\n",
       "   channel_cd phone_order_ind  market_id  \n",
       "0         WEB             NaN          1  \n",
       "1         WEB             NaN          1  \n",
       "2      Mobile             NaN          1  \n",
       "3      Mobile             NaN          1  \n",
       "4         WEB             NaN          1  \n",
       "\n",
       "[5 rows x 74 columns]"
      ]
     },
     "execution_count": 56,
     "metadata": {},
     "output_type": "execute_result"
    }
   ],
   "source": [
    "df.head()"
   ]
  },
  {
   "cell_type": "markdown",
   "id": "50cb551c",
   "metadata": {},
   "source": [
    "## What is the data type of columns?"
   ]
  },
  {
   "cell_type": "code",
   "execution_count": 6,
   "id": "5d158670",
   "metadata": {},
   "outputs": [
    {
     "name": "stdout",
     "output_type": "stream",
     "text": [
      "<class 'pandas.core.frame.DataFrame'>\n",
      "RangeIndex: 1000 entries, 0 to 999\n",
      "Data columns (total 74 columns):\n",
      " #   Column                   Non-Null Count  Dtype  \n",
      "---  ------                   --------------  -----  \n",
      " 0   txn_detail_id            1000 non-null   int64  \n",
      " 1   txn_id                   1000 non-null   int64  \n",
      " 2   linked_txn_id            0 non-null      float64\n",
      " 3   sale_line_type           1000 non-null   object \n",
      " 4   sale_line_sub_type       66 non-null     object \n",
      " 5   sale_line_num            1000 non-null   int64  \n",
      " 6   src_txn_cd               1000 non-null   object \n",
      " 7   src_txn_cd_desc          66 non-null     object \n",
      " 8   src_txn_detail_id        0 non-null      float64\n",
      " 9   sale_dt                  1000 non-null   object \n",
      " 10  ship_dt                  0 non-null      float64\n",
      " 11  ship_tracking_number     0 non-null      float64\n",
      " 12  cashier_num              0 non-null      float64\n",
      " 13  item_qty                 1000 non-null   int64  \n",
      " 14  net_item_qty             1000 non-null   int64  \n",
      " 15  local_total_price        1000 non-null   float64\n",
      " 16  local_unit_price         1000 non-null   float64\n",
      " 17  local_total_tax          1000 non-null   int64  \n",
      " 18  currency_cd              1000 non-null   object \n",
      " 19  usd_conversion_rate      1000 non-null   float64\n",
      " 20  usd_total_price          1000 non-null   float64\n",
      " 21  usd_unit_price           1000 non-null   float64\n",
      " 22  usd_total_tax            1000 non-null   int64  \n",
      " 23  product_id               66 non-null     float64\n",
      " 24  product_sku              1000 non-null   object \n",
      " 25  product_upc              1000 non-null   object \n",
      " 26  product_desc             66 non-null     object \n",
      " 27  sales_prsn_1             22 non-null     float64\n",
      " 28  sales_prsn_pct_1         0 non-null      float64\n",
      " 29  sales_prsn_2             0 non-null      float64\n",
      " 30  sales_prsn_pct_2         0 non-null      float64\n",
      " 31  sales_prsn_3             0 non-null      float64\n",
      " 32  sales_prsn_pct_3         0 non-null      float64\n",
      " 33  product_upc.1            0 non-null      float64\n",
      " 34  promo_desc               179 non-null    object \n",
      " 35  deal_cd                  0 non-null      float64\n",
      " 36  send_sale_addr_line_1    0 non-null      float64\n",
      " 37  send_sale_addr_line_2    0 non-null      float64\n",
      " 38  send_sale_city           0 non-null      float64\n",
      " 39  send_sale_state          0 non-null      float64\n",
      " 40  send_sale_zip            0 non-null      float64\n",
      " 41  send_sale_country_cd     0 non-null      float64\n",
      " 42  store_id_ordered_from    0 non-null      float64\n",
      " 43  store_id_picked_up_from  0 non-null      float64\n",
      " 44  return_date              0 non-null      float64\n",
      " 45  replenishment_ind        2 non-null      float64\n",
      " 46  status_cd                0 non-null      float64\n",
      " 47  reason_cd                0 non-null      float64\n",
      " 48  create_src_sys_id        1000 non-null   int64  \n",
      " 49  create_user_id           1000 non-null   object \n",
      " 50  create_timestamp         1000 non-null   object \n",
      " 51  update_src_sys_id        1000 non-null   int64  \n",
      " 52  update_user_id           1000 non-null   object \n",
      " 53  update_timestamp         1000 non-null   object \n",
      " 54  brand_id                 1000 non-null   int64  \n",
      " 55  master_category          66 non-null     object \n",
      " 56  category                 66 non-null     object \n",
      " 57  sub_category             38 non-null     object \n",
      " 58  promo_id                 62 non-null     float64\n",
      " 59  subcategory_alter        38 non-null     object \n",
      " 60  consumer_id              1000 non-null   int64  \n",
      " 61  elc_master_id            880 non-null    object \n",
      " 62  local_net_price          1000 non-null   int64  \n",
      " 63  usd_net_price            1000 non-null   float64\n",
      " 64  local_returned_price     1000 non-null   int64  \n",
      " 65  usd_returned_price       1000 non-null   int64  \n",
      " 66  visit_qualifying_flag    1000 non-null   object \n",
      " 67  returned_days_from_sale  0 non-null      float64\n",
      " 68  return_status            0 non-null      float64\n",
      " 69  return_item_qty          0 non-null      float64\n",
      " 70  store_num                1000 non-null   int64  \n",
      " 71  channel_cd               999 non-null    object \n",
      " 72  phone_order_ind          11 non-null     float64\n",
      " 73  market_id                1000 non-null   int64  \n",
      "dtypes: float64(37), int64(16), object(21)\n",
      "memory usage: 578.2+ KB\n"
     ]
    }
   ],
   "source": [
    "df.info()"
   ]
  },
  {
   "cell_type": "markdown",
   "id": "0a2edfe0",
   "metadata": {},
   "source": [
    "## Check the missing values in the data"
   ]
  },
  {
   "cell_type": "code",
   "execution_count": 7,
   "id": "38c11823",
   "metadata": {},
   "outputs": [
    {
     "data": {
      "text/plain": [
       "txn_detail_id            0\n",
       "txn_id                   0\n",
       "linked_txn_id         1000\n",
       "sale_line_type           0\n",
       "sale_line_sub_type     934\n",
       "                      ... \n",
       "return_item_qty       1000\n",
       "store_num                0\n",
       "channel_cd               1\n",
       "phone_order_ind        989\n",
       "market_id                0\n",
       "Length: 74, dtype: int64"
      ]
     },
     "execution_count": 7,
     "metadata": {},
     "output_type": "execute_result"
    }
   ],
   "source": [
    "df.isnull().sum()"
   ]
  },
  {
   "cell_type": "markdown",
   "id": "ebf99784",
   "metadata": {},
   "source": [
    "### So there are so many columns which have more than 90% missing values so we will delete those columns"
   ]
  },
  {
   "cell_type": "code",
   "execution_count": 57,
   "id": "ed76e54b",
   "metadata": {},
   "outputs": [],
   "source": [
    "df.drop(['linked_txn_id','src_txn_detail_id','ship_dt','ship_tracking_number','cashier_num','sales_prsn_pct_1',\n",
    "         'sales_prsn_pct_2','sales_prsn_pct_3','sales_prsn_2','sales_prsn_3','sales_prsn_1','product_upc.1','deal_cd',\n",
    "        'send_sale_addr_line_1','send_sale_addr_line_2','send_sale_city','send_sale_state','send_sale_zip',\n",
    "         'send_sale_country_cd','store_id_ordered_from','store_id_picked_up_from','return_date','replenishment_ind',\n",
    "        'status_cd','reason_cd','returned_days_from_sale','return_status','return_item_qty','phone_order_ind',\n",
    "         'subcategory_alter','promo_id','sub_category','master_category','category','promo_desc',\n",
    "        'product_desc','product_id','src_txn_cd_desc','sale_line_sub_type'], inplace=True, axis=1)"
   ]
  },
  {
   "cell_type": "code",
   "execution_count": 9,
   "id": "a838e28b",
   "metadata": {},
   "outputs": [
    {
     "data": {
      "text/plain": [
       "txn_detail_id              0\n",
       "txn_id                     0\n",
       "sale_line_type             0\n",
       "sale_line_num              0\n",
       "src_txn_cd                 0\n",
       "sale_dt                    0\n",
       "item_qty                   0\n",
       "net_item_qty               0\n",
       "local_total_price          0\n",
       "local_unit_price           0\n",
       "local_total_tax            0\n",
       "currency_cd                0\n",
       "usd_conversion_rate        0\n",
       "usd_total_price            0\n",
       "usd_unit_price             0\n",
       "usd_total_tax              0\n",
       "product_sku                0\n",
       "product_upc                0\n",
       "create_src_sys_id          0\n",
       "create_user_id             0\n",
       "create_timestamp           0\n",
       "update_src_sys_id          0\n",
       "update_user_id             0\n",
       "update_timestamp           0\n",
       "brand_id                   0\n",
       "consumer_id                0\n",
       "elc_master_id            120\n",
       "local_net_price            0\n",
       "usd_net_price              0\n",
       "local_returned_price       0\n",
       "usd_returned_price         0\n",
       "visit_qualifying_flag      0\n",
       "store_num                  0\n",
       "channel_cd                 1\n",
       "market_id                  0\n",
       "dtype: int64"
      ]
     },
     "execution_count": 9,
     "metadata": {},
     "output_type": "execute_result"
    }
   ],
   "source": [
    "df.isnull().sum()"
   ]
  },
  {
   "cell_type": "markdown",
   "id": "0ab85d66",
   "metadata": {},
   "source": [
    "### As we can see we have deleted all those columns which have more than 90% missing values"
   ]
  },
  {
   "cell_type": "markdown",
   "id": "30f54731",
   "metadata": {},
   "source": [
    "## How does the data look mathematically?"
   ]
  },
  {
   "cell_type": "code",
   "execution_count": 10,
   "id": "ae637160",
   "metadata": {},
   "outputs": [
    {
     "data": {
      "text/html": [
       "<div>\n",
       "<style scoped>\n",
       "    .dataframe tbody tr th:only-of-type {\n",
       "        vertical-align: middle;\n",
       "    }\n",
       "\n",
       "    .dataframe tbody tr th {\n",
       "        vertical-align: top;\n",
       "    }\n",
       "\n",
       "    .dataframe thead th {\n",
       "        text-align: right;\n",
       "    }\n",
       "</style>\n",
       "<table border=\"1\" class=\"dataframe\">\n",
       "  <thead>\n",
       "    <tr style=\"text-align: right;\">\n",
       "      <th></th>\n",
       "      <th>txn_detail_id</th>\n",
       "      <th>txn_id</th>\n",
       "      <th>sale_line_num</th>\n",
       "      <th>item_qty</th>\n",
       "      <th>net_item_qty</th>\n",
       "      <th>local_total_price</th>\n",
       "      <th>local_unit_price</th>\n",
       "      <th>local_total_tax</th>\n",
       "      <th>usd_conversion_rate</th>\n",
       "      <th>usd_total_price</th>\n",
       "      <th>...</th>\n",
       "      <th>create_src_sys_id</th>\n",
       "      <th>update_src_sys_id</th>\n",
       "      <th>brand_id</th>\n",
       "      <th>consumer_id</th>\n",
       "      <th>local_net_price</th>\n",
       "      <th>usd_net_price</th>\n",
       "      <th>local_returned_price</th>\n",
       "      <th>usd_returned_price</th>\n",
       "      <th>store_num</th>\n",
       "      <th>market_id</th>\n",
       "    </tr>\n",
       "  </thead>\n",
       "  <tbody>\n",
       "    <tr>\n",
       "      <th>count</th>\n",
       "      <td>1.000000e+03</td>\n",
       "      <td>1.000000e+03</td>\n",
       "      <td>1000.000000</td>\n",
       "      <td>1000.000000</td>\n",
       "      <td>1000.000000</td>\n",
       "      <td>1000.00000</td>\n",
       "      <td>1000.000000</td>\n",
       "      <td>1000.0</td>\n",
       "      <td>1000.000000</td>\n",
       "      <td>1000.000000</td>\n",
       "      <td>...</td>\n",
       "      <td>1000.000000</td>\n",
       "      <td>1000.000000</td>\n",
       "      <td>1000.000000</td>\n",
       "      <td>1.000000e+03</td>\n",
       "      <td>1000.000000</td>\n",
       "      <td>1000.000000</td>\n",
       "      <td>1000.0</td>\n",
       "      <td>1000.0</td>\n",
       "      <td>1000.00000</td>\n",
       "      <td>1000.000000</td>\n",
       "    </tr>\n",
       "    <tr>\n",
       "      <th>mean</th>\n",
       "      <td>2.013878e+09</td>\n",
       "      <td>5.419562e+08</td>\n",
       "      <td>28.666000</td>\n",
       "      <td>0.777000</td>\n",
       "      <td>0.019000</td>\n",
       "      <td>3.78426</td>\n",
       "      <td>6.595200</td>\n",
       "      <td>0.0</td>\n",
       "      <td>0.879095</td>\n",
       "      <td>3.467390</td>\n",
       "      <td>...</td>\n",
       "      <td>1.934000</td>\n",
       "      <td>1.934000</td>\n",
       "      <td>10.458000</td>\n",
       "      <td>1.325348e+08</td>\n",
       "      <td>0.655000</td>\n",
       "      <td>0.644090</td>\n",
       "      <td>0.0</td>\n",
       "      <td>0.0</td>\n",
       "      <td>10853.18300</td>\n",
       "      <td>1.533000</td>\n",
       "    </tr>\n",
       "    <tr>\n",
       "      <th>std</th>\n",
       "      <td>2.701441e+07</td>\n",
       "      <td>3.328939e+06</td>\n",
       "      <td>21.852001</td>\n",
       "      <td>0.416467</td>\n",
       "      <td>0.136593</td>\n",
       "      <td>11.96137</td>\n",
       "      <td>7.264051</td>\n",
       "      <td>0.0</td>\n",
       "      <td>0.113477</td>\n",
       "      <td>11.023784</td>\n",
       "      <td>...</td>\n",
       "      <td>0.248406</td>\n",
       "      <td>0.248406</td>\n",
       "      <td>12.954074</td>\n",
       "      <td>6.220821e+07</td>\n",
       "      <td>6.032609</td>\n",
       "      <td>5.993337</td>\n",
       "      <td>0.0</td>\n",
       "      <td>0.0</td>\n",
       "      <td>13226.06529</td>\n",
       "      <td>0.499159</td>\n",
       "    </tr>\n",
       "    <tr>\n",
       "      <th>min</th>\n",
       "      <td>1.917372e+09</td>\n",
       "      <td>5.307534e+08</td>\n",
       "      <td>10.000000</td>\n",
       "      <td>0.000000</td>\n",
       "      <td>0.000000</td>\n",
       "      <td>-100.00000</td>\n",
       "      <td>0.000000</td>\n",
       "      <td>0.0</td>\n",
       "      <td>0.763796</td>\n",
       "      <td>-100.000000</td>\n",
       "      <td>...</td>\n",
       "      <td>1.000000</td>\n",
       "      <td>1.000000</td>\n",
       "      <td>1.000000</td>\n",
       "      <td>2.274220e+05</td>\n",
       "      <td>0.000000</td>\n",
       "      <td>0.000000</td>\n",
       "      <td>0.0</td>\n",
       "      <td>0.0</td>\n",
       "      <td>1700.00000</td>\n",
       "      <td>1.000000</td>\n",
       "    </tr>\n",
       "    <tr>\n",
       "      <th>25%</th>\n",
       "      <td>2.012400e+09</td>\n",
       "      <td>5.417492e+08</td>\n",
       "      <td>10.000000</td>\n",
       "      <td>1.000000</td>\n",
       "      <td>0.000000</td>\n",
       "      <td>1.00000</td>\n",
       "      <td>1.000000</td>\n",
       "      <td>0.0</td>\n",
       "      <td>0.763796</td>\n",
       "      <td>1.000000</td>\n",
       "      <td>...</td>\n",
       "      <td>2.000000</td>\n",
       "      <td>2.000000</td>\n",
       "      <td>3.000000</td>\n",
       "      <td>8.267567e+07</td>\n",
       "      <td>0.000000</td>\n",
       "      <td>0.000000</td>\n",
       "      <td>0.0</td>\n",
       "      <td>0.0</td>\n",
       "      <td>3700.00000</td>\n",
       "      <td>1.000000</td>\n",
       "    </tr>\n",
       "    <tr>\n",
       "      <th>50%</th>\n",
       "      <td>2.027904e+09</td>\n",
       "      <td>5.436871e+08</td>\n",
       "      <td>20.000000</td>\n",
       "      <td>1.000000</td>\n",
       "      <td>0.000000</td>\n",
       "      <td>7.50000</td>\n",
       "      <td>7.500000</td>\n",
       "      <td>0.0</td>\n",
       "      <td>0.786256</td>\n",
       "      <td>6.110000</td>\n",
       "      <td>...</td>\n",
       "      <td>2.000000</td>\n",
       "      <td>2.000000</td>\n",
       "      <td>4.000000</td>\n",
       "      <td>1.557298e+08</td>\n",
       "      <td>0.000000</td>\n",
       "      <td>0.000000</td>\n",
       "      <td>0.0</td>\n",
       "      <td>0.0</td>\n",
       "      <td>3700.00000</td>\n",
       "      <td>2.000000</td>\n",
       "    </tr>\n",
       "    <tr>\n",
       "      <th>75%</th>\n",
       "      <td>2.029709e+09</td>\n",
       "      <td>5.439286e+08</td>\n",
       "      <td>40.000000</td>\n",
       "      <td>1.000000</td>\n",
       "      <td>0.000000</td>\n",
       "      <td>10.00000</td>\n",
       "      <td>10.000000</td>\n",
       "      <td>0.0</td>\n",
       "      <td>1.000000</td>\n",
       "      <td>8.400000</td>\n",
       "      <td>...</td>\n",
       "      <td>2.000000</td>\n",
       "      <td>2.000000</td>\n",
       "      <td>21.000000</td>\n",
       "      <td>1.884390e+08</td>\n",
       "      <td>0.000000</td>\n",
       "      <td>0.000000</td>\n",
       "      <td>0.0</td>\n",
       "      <td>0.0</td>\n",
       "      <td>21722.00000</td>\n",
       "      <td>2.000000</td>\n",
       "    </tr>\n",
       "    <tr>\n",
       "      <th>max</th>\n",
       "      <td>2.030945e+09</td>\n",
       "      <td>5.440895e+08</td>\n",
       "      <td>170.000000</td>\n",
       "      <td>1.000000</td>\n",
       "      <td>1.000000</td>\n",
       "      <td>100.00000</td>\n",
       "      <td>100.000000</td>\n",
       "      <td>0.0</td>\n",
       "      <td>1.000000</td>\n",
       "      <td>100.000000</td>\n",
       "      <td>...</td>\n",
       "      <td>2.000000</td>\n",
       "      <td>2.000000</td>\n",
       "      <td>227.000000</td>\n",
       "      <td>1.923046e+08</td>\n",
       "      <td>100.000000</td>\n",
       "      <td>100.000000</td>\n",
       "      <td>0.0</td>\n",
       "      <td>0.0</td>\n",
       "      <td>227700.00000</td>\n",
       "      <td>2.000000</td>\n",
       "    </tr>\n",
       "  </tbody>\n",
       "</table>\n",
       "<p>8 rows × 22 columns</p>\n",
       "</div>"
      ],
      "text/plain": [
       "       txn_detail_id        txn_id  sale_line_num     item_qty  net_item_qty  \\\n",
       "count   1.000000e+03  1.000000e+03    1000.000000  1000.000000   1000.000000   \n",
       "mean    2.013878e+09  5.419562e+08      28.666000     0.777000      0.019000   \n",
       "std     2.701441e+07  3.328939e+06      21.852001     0.416467      0.136593   \n",
       "min     1.917372e+09  5.307534e+08      10.000000     0.000000      0.000000   \n",
       "25%     2.012400e+09  5.417492e+08      10.000000     1.000000      0.000000   \n",
       "50%     2.027904e+09  5.436871e+08      20.000000     1.000000      0.000000   \n",
       "75%     2.029709e+09  5.439286e+08      40.000000     1.000000      0.000000   \n",
       "max     2.030945e+09  5.440895e+08     170.000000     1.000000      1.000000   \n",
       "\n",
       "       local_total_price  local_unit_price  local_total_tax  \\\n",
       "count         1000.00000       1000.000000           1000.0   \n",
       "mean             3.78426          6.595200              0.0   \n",
       "std             11.96137          7.264051              0.0   \n",
       "min           -100.00000          0.000000              0.0   \n",
       "25%              1.00000          1.000000              0.0   \n",
       "50%              7.50000          7.500000              0.0   \n",
       "75%             10.00000         10.000000              0.0   \n",
       "max            100.00000        100.000000              0.0   \n",
       "\n",
       "       usd_conversion_rate  usd_total_price  ...  create_src_sys_id  \\\n",
       "count          1000.000000      1000.000000  ...        1000.000000   \n",
       "mean              0.879095         3.467390  ...           1.934000   \n",
       "std               0.113477        11.023784  ...           0.248406   \n",
       "min               0.763796      -100.000000  ...           1.000000   \n",
       "25%               0.763796         1.000000  ...           2.000000   \n",
       "50%               0.786256         6.110000  ...           2.000000   \n",
       "75%               1.000000         8.400000  ...           2.000000   \n",
       "max               1.000000       100.000000  ...           2.000000   \n",
       "\n",
       "       update_src_sys_id     brand_id   consumer_id  local_net_price  \\\n",
       "count        1000.000000  1000.000000  1.000000e+03      1000.000000   \n",
       "mean            1.934000    10.458000  1.325348e+08         0.655000   \n",
       "std             0.248406    12.954074  6.220821e+07         6.032609   \n",
       "min             1.000000     1.000000  2.274220e+05         0.000000   \n",
       "25%             2.000000     3.000000  8.267567e+07         0.000000   \n",
       "50%             2.000000     4.000000  1.557298e+08         0.000000   \n",
       "75%             2.000000    21.000000  1.884390e+08         0.000000   \n",
       "max             2.000000   227.000000  1.923046e+08       100.000000   \n",
       "\n",
       "       usd_net_price  local_returned_price  usd_returned_price     store_num  \\\n",
       "count    1000.000000                1000.0              1000.0    1000.00000   \n",
       "mean        0.644090                   0.0                 0.0   10853.18300   \n",
       "std         5.993337                   0.0                 0.0   13226.06529   \n",
       "min         0.000000                   0.0                 0.0    1700.00000   \n",
       "25%         0.000000                   0.0                 0.0    3700.00000   \n",
       "50%         0.000000                   0.0                 0.0    3700.00000   \n",
       "75%         0.000000                   0.0                 0.0   21722.00000   \n",
       "max       100.000000                   0.0                 0.0  227700.00000   \n",
       "\n",
       "         market_id  \n",
       "count  1000.000000  \n",
       "mean      1.533000  \n",
       "std       0.499159  \n",
       "min       1.000000  \n",
       "25%       1.000000  \n",
       "50%       2.000000  \n",
       "75%       2.000000  \n",
       "max       2.000000  \n",
       "\n",
       "[8 rows x 22 columns]"
      ]
     },
     "execution_count": 10,
     "metadata": {},
     "output_type": "execute_result"
    }
   ],
   "source": [
    "df.describe()"
   ]
  },
  {
   "cell_type": "markdown",
   "id": "13098c90",
   "metadata": {},
   "source": [
    "## Are there any duplicate values?"
   ]
  },
  {
   "cell_type": "code",
   "execution_count": 11,
   "id": "c33c296d",
   "metadata": {},
   "outputs": [
    {
     "data": {
      "text/plain": [
       "0"
      ]
     },
     "execution_count": 11,
     "metadata": {},
     "output_type": "execute_result"
    }
   ],
   "source": [
    "df.duplicated().sum()"
   ]
  },
  {
   "cell_type": "markdown",
   "id": "6fc710c4",
   "metadata": {},
   "source": [
    "### There is no duplicate values in this data"
   ]
  },
  {
   "cell_type": "markdown",
   "id": "e3c7f659",
   "metadata": {},
   "source": [
    "## How is the correlation between columns?"
   ]
  },
  {
   "cell_type": "code",
   "execution_count": 12,
   "id": "a408bd8b",
   "metadata": {},
   "outputs": [
    {
     "data": {
      "text/html": [
       "<div>\n",
       "<style scoped>\n",
       "    .dataframe tbody tr th:only-of-type {\n",
       "        vertical-align: middle;\n",
       "    }\n",
       "\n",
       "    .dataframe tbody tr th {\n",
       "        vertical-align: top;\n",
       "    }\n",
       "\n",
       "    .dataframe thead th {\n",
       "        text-align: right;\n",
       "    }\n",
       "</style>\n",
       "<table border=\"1\" class=\"dataframe\">\n",
       "  <thead>\n",
       "    <tr style=\"text-align: right;\">\n",
       "      <th></th>\n",
       "      <th>txn_detail_id</th>\n",
       "      <th>txn_id</th>\n",
       "      <th>sale_line_num</th>\n",
       "      <th>item_qty</th>\n",
       "      <th>net_item_qty</th>\n",
       "      <th>local_total_price</th>\n",
       "      <th>local_unit_price</th>\n",
       "      <th>local_total_tax</th>\n",
       "      <th>usd_conversion_rate</th>\n",
       "      <th>usd_total_price</th>\n",
       "      <th>...</th>\n",
       "      <th>create_src_sys_id</th>\n",
       "      <th>update_src_sys_id</th>\n",
       "      <th>brand_id</th>\n",
       "      <th>consumer_id</th>\n",
       "      <th>local_net_price</th>\n",
       "      <th>usd_net_price</th>\n",
       "      <th>local_returned_price</th>\n",
       "      <th>usd_returned_price</th>\n",
       "      <th>store_num</th>\n",
       "      <th>market_id</th>\n",
       "    </tr>\n",
       "  </thead>\n",
       "  <tbody>\n",
       "    <tr>\n",
       "      <th>txn_detail_id</th>\n",
       "      <td>1.000000</td>\n",
       "      <td>0.999173</td>\n",
       "      <td>0.013578</td>\n",
       "      <td>0.546487</td>\n",
       "      <td>-0.113138</td>\n",
       "      <td>0.344214</td>\n",
       "      <td>0.208879</td>\n",
       "      <td>NaN</td>\n",
       "      <td>0.056959</td>\n",
       "      <td>0.290449</td>\n",
       "      <td>...</td>\n",
       "      <td>0.139396</td>\n",
       "      <td>0.139396</td>\n",
       "      <td>0.178511</td>\n",
       "      <td>-0.045058</td>\n",
       "      <td>-0.033460</td>\n",
       "      <td>-0.030020</td>\n",
       "      <td>NaN</td>\n",
       "      <td>NaN</td>\n",
       "      <td>0.180348</td>\n",
       "      <td>-0.095397</td>\n",
       "    </tr>\n",
       "    <tr>\n",
       "      <th>txn_id</th>\n",
       "      <td>0.999173</td>\n",
       "      <td>1.000000</td>\n",
       "      <td>0.015452</td>\n",
       "      <td>0.563729</td>\n",
       "      <td>-0.104424</td>\n",
       "      <td>0.356419</td>\n",
       "      <td>0.219609</td>\n",
       "      <td>NaN</td>\n",
       "      <td>0.069549</td>\n",
       "      <td>0.301628</td>\n",
       "      <td>...</td>\n",
       "      <td>0.130597</td>\n",
       "      <td>0.130597</td>\n",
       "      <td>0.182148</td>\n",
       "      <td>-0.049708</td>\n",
       "      <td>-0.029317</td>\n",
       "      <td>-0.026066</td>\n",
       "      <td>NaN</td>\n",
       "      <td>NaN</td>\n",
       "      <td>0.184155</td>\n",
       "      <td>-0.109034</td>\n",
       "    </tr>\n",
       "    <tr>\n",
       "      <th>sale_line_num</th>\n",
       "      <td>0.013578</td>\n",
       "      <td>0.015452</td>\n",
       "      <td>1.000000</td>\n",
       "      <td>0.005117</td>\n",
       "      <td>0.011854</td>\n",
       "      <td>-0.025983</td>\n",
       "      <td>-0.042768</td>\n",
       "      <td>NaN</td>\n",
       "      <td>0.249193</td>\n",
       "      <td>-0.009963</td>\n",
       "      <td>...</td>\n",
       "      <td>-0.137392</td>\n",
       "      <td>-0.137392</td>\n",
       "      <td>0.096386</td>\n",
       "      <td>-0.196258</td>\n",
       "      <td>-0.013867</td>\n",
       "      <td>-0.014067</td>\n",
       "      <td>NaN</td>\n",
       "      <td>NaN</td>\n",
       "      <td>0.118560</td>\n",
       "      <td>-0.245760</td>\n",
       "    </tr>\n",
       "    <tr>\n",
       "      <th>item_qty</th>\n",
       "      <td>0.546487</td>\n",
       "      <td>0.563729</td>\n",
       "      <td>0.005117</td>\n",
       "      <td>1.000000</td>\n",
       "      <td>0.074556</td>\n",
       "      <td>0.734413</td>\n",
       "      <td>0.486640</td>\n",
       "      <td>NaN</td>\n",
       "      <td>0.284777</td>\n",
       "      <td>0.683675</td>\n",
       "      <td>...</td>\n",
       "      <td>0.283330</td>\n",
       "      <td>0.283330</td>\n",
       "      <td>0.135843</td>\n",
       "      <td>0.038365</td>\n",
       "      <td>0.058196</td>\n",
       "      <td>0.057602</td>\n",
       "      <td>NaN</td>\n",
       "      <td>NaN</td>\n",
       "      <td>0.142410</td>\n",
       "      <td>-0.332928</td>\n",
       "    </tr>\n",
       "    <tr>\n",
       "      <th>net_item_qty</th>\n",
       "      <td>-0.113138</td>\n",
       "      <td>-0.104424</td>\n",
       "      <td>0.011854</td>\n",
       "      <td>0.074556</td>\n",
       "      <td>1.000000</td>\n",
       "      <td>0.357246</td>\n",
       "      <td>0.534380</td>\n",
       "      <td>NaN</td>\n",
       "      <td>0.120166</td>\n",
       "      <td>0.384380</td>\n",
       "      <td>...</td>\n",
       "      <td>-0.523533</td>\n",
       "      <td>-0.523533</td>\n",
       "      <td>0.072580</td>\n",
       "      <td>-0.227014</td>\n",
       "      <td>0.780569</td>\n",
       "      <td>0.772597</td>\n",
       "      <td>NaN</td>\n",
       "      <td>NaN</td>\n",
       "      <td>0.071944</td>\n",
       "      <td>-0.119316</td>\n",
       "    </tr>\n",
       "    <tr>\n",
       "      <th>local_total_price</th>\n",
       "      <td>0.344214</td>\n",
       "      <td>0.356419</td>\n",
       "      <td>-0.025983</td>\n",
       "      <td>0.734413</td>\n",
       "      <td>0.357246</td>\n",
       "      <td>1.000000</td>\n",
       "      <td>0.820869</td>\n",
       "      <td>NaN</td>\n",
       "      <td>0.103869</td>\n",
       "      <td>0.992213</td>\n",
       "      <td>...</td>\n",
       "      <td>0.168177</td>\n",
       "      <td>0.168177</td>\n",
       "      <td>0.047203</td>\n",
       "      <td>0.043434</td>\n",
       "      <td>0.475907</td>\n",
       "      <td>0.475794</td>\n",
       "      <td>NaN</td>\n",
       "      <td>NaN</td>\n",
       "      <td>0.049378</td>\n",
       "      <td>-0.137428</td>\n",
       "    </tr>\n",
       "    <tr>\n",
       "      <th>local_unit_price</th>\n",
       "      <td>0.208879</td>\n",
       "      <td>0.219609</td>\n",
       "      <td>-0.042768</td>\n",
       "      <td>0.486640</td>\n",
       "      <td>0.534380</td>\n",
       "      <td>0.820869</td>\n",
       "      <td>1.000000</td>\n",
       "      <td>NaN</td>\n",
       "      <td>0.039090</td>\n",
       "      <td>0.816614</td>\n",
       "      <td>...</td>\n",
       "      <td>-0.123551</td>\n",
       "      <td>-0.123551</td>\n",
       "      <td>0.032922</td>\n",
       "      <td>-0.065709</td>\n",
       "      <td>0.741597</td>\n",
       "      <td>0.741839</td>\n",
       "      <td>NaN</td>\n",
       "      <td>NaN</td>\n",
       "      <td>0.035408</td>\n",
       "      <td>-0.063838</td>\n",
       "    </tr>\n",
       "    <tr>\n",
       "      <th>local_total_tax</th>\n",
       "      <td>NaN</td>\n",
       "      <td>NaN</td>\n",
       "      <td>NaN</td>\n",
       "      <td>NaN</td>\n",
       "      <td>NaN</td>\n",
       "      <td>NaN</td>\n",
       "      <td>NaN</td>\n",
       "      <td>NaN</td>\n",
       "      <td>NaN</td>\n",
       "      <td>NaN</td>\n",
       "      <td>...</td>\n",
       "      <td>NaN</td>\n",
       "      <td>NaN</td>\n",
       "      <td>NaN</td>\n",
       "      <td>NaN</td>\n",
       "      <td>NaN</td>\n",
       "      <td>NaN</td>\n",
       "      <td>NaN</td>\n",
       "      <td>NaN</td>\n",
       "      <td>NaN</td>\n",
       "      <td>NaN</td>\n",
       "    </tr>\n",
       "    <tr>\n",
       "      <th>usd_conversion_rate</th>\n",
       "      <td>0.056959</td>\n",
       "      <td>0.069549</td>\n",
       "      <td>0.249193</td>\n",
       "      <td>0.284777</td>\n",
       "      <td>0.120166</td>\n",
       "      <td>0.103869</td>\n",
       "      <td>0.039090</td>\n",
       "      <td>NaN</td>\n",
       "      <td>1.000000</td>\n",
       "      <td>0.147713</td>\n",
       "      <td>...</td>\n",
       "      <td>-0.199238</td>\n",
       "      <td>-0.199238</td>\n",
       "      <td>0.281408</td>\n",
       "      <td>-0.283119</td>\n",
       "      <td>0.099844</td>\n",
       "      <td>0.102061</td>\n",
       "      <td>NaN</td>\n",
       "      <td>NaN</td>\n",
       "      <td>0.298551</td>\n",
       "      <td>-0.997809</td>\n",
       "    </tr>\n",
       "    <tr>\n",
       "      <th>usd_total_price</th>\n",
       "      <td>0.290449</td>\n",
       "      <td>0.301628</td>\n",
       "      <td>-0.009963</td>\n",
       "      <td>0.683675</td>\n",
       "      <td>0.384380</td>\n",
       "      <td>0.992213</td>\n",
       "      <td>0.816614</td>\n",
       "      <td>NaN</td>\n",
       "      <td>0.147713</td>\n",
       "      <td>1.000000</td>\n",
       "      <td>...</td>\n",
       "      <td>0.164429</td>\n",
       "      <td>0.164429</td>\n",
       "      <td>0.052478</td>\n",
       "      <td>0.037241</td>\n",
       "      <td>0.515402</td>\n",
       "      <td>0.516122</td>\n",
       "      <td>NaN</td>\n",
       "      <td>NaN</td>\n",
       "      <td>0.055284</td>\n",
       "      <td>-0.176036</td>\n",
       "    </tr>\n",
       "    <tr>\n",
       "      <th>usd_unit_price</th>\n",
       "      <td>0.164850</td>\n",
       "      <td>0.175523</td>\n",
       "      <td>-0.011453</td>\n",
       "      <td>0.450512</td>\n",
       "      <td>0.563496</td>\n",
       "      <td>0.797938</td>\n",
       "      <td>0.988349</td>\n",
       "      <td>NaN</td>\n",
       "      <td>0.150244</td>\n",
       "      <td>0.809485</td>\n",
       "      <td>...</td>\n",
       "      <td>-0.152406</td>\n",
       "      <td>-0.152406</td>\n",
       "      <td>0.061154</td>\n",
       "      <td>-0.097487</td>\n",
       "      <td>0.782146</td>\n",
       "      <td>0.783668</td>\n",
       "      <td>NaN</td>\n",
       "      <td>NaN</td>\n",
       "      <td>0.064809</td>\n",
       "      <td>-0.170204</td>\n",
       "    </tr>\n",
       "    <tr>\n",
       "      <th>usd_total_tax</th>\n",
       "      <td>NaN</td>\n",
       "      <td>NaN</td>\n",
       "      <td>NaN</td>\n",
       "      <td>NaN</td>\n",
       "      <td>NaN</td>\n",
       "      <td>NaN</td>\n",
       "      <td>NaN</td>\n",
       "      <td>NaN</td>\n",
       "      <td>NaN</td>\n",
       "      <td>NaN</td>\n",
       "      <td>...</td>\n",
       "      <td>NaN</td>\n",
       "      <td>NaN</td>\n",
       "      <td>NaN</td>\n",
       "      <td>NaN</td>\n",
       "      <td>NaN</td>\n",
       "      <td>NaN</td>\n",
       "      <td>NaN</td>\n",
       "      <td>NaN</td>\n",
       "      <td>NaN</td>\n",
       "      <td>NaN</td>\n",
       "    </tr>\n",
       "    <tr>\n",
       "      <th>create_src_sys_id</th>\n",
       "      <td>0.139396</td>\n",
       "      <td>0.130597</td>\n",
       "      <td>-0.137392</td>\n",
       "      <td>0.283330</td>\n",
       "      <td>-0.523533</td>\n",
       "      <td>0.168177</td>\n",
       "      <td>-0.123551</td>\n",
       "      <td>NaN</td>\n",
       "      <td>-0.199238</td>\n",
       "      <td>0.164429</td>\n",
       "      <td>...</td>\n",
       "      <td>1.000000</td>\n",
       "      <td>1.000000</td>\n",
       "      <td>-0.129647</td>\n",
       "      <td>0.425839</td>\n",
       "      <td>-0.408653</td>\n",
       "      <td>-0.404480</td>\n",
       "      <td>NaN</td>\n",
       "      <td>NaN</td>\n",
       "      <td>-0.129323</td>\n",
       "      <td>0.195188</td>\n",
       "    </tr>\n",
       "    <tr>\n",
       "      <th>update_src_sys_id</th>\n",
       "      <td>0.139396</td>\n",
       "      <td>0.130597</td>\n",
       "      <td>-0.137392</td>\n",
       "      <td>0.283330</td>\n",
       "      <td>-0.523533</td>\n",
       "      <td>0.168177</td>\n",
       "      <td>-0.123551</td>\n",
       "      <td>NaN</td>\n",
       "      <td>-0.199238</td>\n",
       "      <td>0.164429</td>\n",
       "      <td>...</td>\n",
       "      <td>1.000000</td>\n",
       "      <td>1.000000</td>\n",
       "      <td>-0.129647</td>\n",
       "      <td>0.425839</td>\n",
       "      <td>-0.408653</td>\n",
       "      <td>-0.404480</td>\n",
       "      <td>NaN</td>\n",
       "      <td>NaN</td>\n",
       "      <td>-0.129323</td>\n",
       "      <td>0.195188</td>\n",
       "    </tr>\n",
       "    <tr>\n",
       "      <th>brand_id</th>\n",
       "      <td>0.178511</td>\n",
       "      <td>0.182148</td>\n",
       "      <td>0.096386</td>\n",
       "      <td>0.135843</td>\n",
       "      <td>0.072580</td>\n",
       "      <td>0.047203</td>\n",
       "      <td>0.032922</td>\n",
       "      <td>NaN</td>\n",
       "      <td>0.281408</td>\n",
       "      <td>0.052478</td>\n",
       "      <td>...</td>\n",
       "      <td>-0.129647</td>\n",
       "      <td>-0.129647</td>\n",
       "      <td>1.000000</td>\n",
       "      <td>-0.113806</td>\n",
       "      <td>0.064700</td>\n",
       "      <td>0.064907</td>\n",
       "      <td>NaN</td>\n",
       "      <td>NaN</td>\n",
       "      <td>0.994527</td>\n",
       "      <td>-0.286564</td>\n",
       "    </tr>\n",
       "    <tr>\n",
       "      <th>consumer_id</th>\n",
       "      <td>-0.045058</td>\n",
       "      <td>-0.049708</td>\n",
       "      <td>-0.196258</td>\n",
       "      <td>0.038365</td>\n",
       "      <td>-0.227014</td>\n",
       "      <td>0.043434</td>\n",
       "      <td>-0.065709</td>\n",
       "      <td>NaN</td>\n",
       "      <td>-0.283119</td>\n",
       "      <td>0.037241</td>\n",
       "      <td>...</td>\n",
       "      <td>0.425839</td>\n",
       "      <td>0.425839</td>\n",
       "      <td>-0.113806</td>\n",
       "      <td>1.000000</td>\n",
       "      <td>-0.186983</td>\n",
       "      <td>-0.187187</td>\n",
       "      <td>NaN</td>\n",
       "      <td>NaN</td>\n",
       "      <td>-0.129878</td>\n",
       "      <td>0.283311</td>\n",
       "    </tr>\n",
       "    <tr>\n",
       "      <th>local_net_price</th>\n",
       "      <td>-0.033460</td>\n",
       "      <td>-0.029317</td>\n",
       "      <td>-0.013867</td>\n",
       "      <td>0.058196</td>\n",
       "      <td>0.780569</td>\n",
       "      <td>0.475907</td>\n",
       "      <td>0.741597</td>\n",
       "      <td>NaN</td>\n",
       "      <td>0.099844</td>\n",
       "      <td>0.515402</td>\n",
       "      <td>...</td>\n",
       "      <td>-0.408653</td>\n",
       "      <td>-0.408653</td>\n",
       "      <td>0.064700</td>\n",
       "      <td>-0.186983</td>\n",
       "      <td>1.000000</td>\n",
       "      <td>0.999199</td>\n",
       "      <td>NaN</td>\n",
       "      <td>NaN</td>\n",
       "      <td>0.064464</td>\n",
       "      <td>-0.099432</td>\n",
       "    </tr>\n",
       "    <tr>\n",
       "      <th>usd_net_price</th>\n",
       "      <td>-0.030020</td>\n",
       "      <td>-0.026066</td>\n",
       "      <td>-0.014067</td>\n",
       "      <td>0.057602</td>\n",
       "      <td>0.772597</td>\n",
       "      <td>0.475794</td>\n",
       "      <td>0.741839</td>\n",
       "      <td>NaN</td>\n",
       "      <td>0.102061</td>\n",
       "      <td>0.516122</td>\n",
       "      <td>...</td>\n",
       "      <td>-0.404480</td>\n",
       "      <td>-0.404480</td>\n",
       "      <td>0.064907</td>\n",
       "      <td>-0.187187</td>\n",
       "      <td>0.999199</td>\n",
       "      <td>1.000000</td>\n",
       "      <td>NaN</td>\n",
       "      <td>NaN</td>\n",
       "      <td>0.064717</td>\n",
       "      <td>-0.101789</td>\n",
       "    </tr>\n",
       "    <tr>\n",
       "      <th>local_returned_price</th>\n",
       "      <td>NaN</td>\n",
       "      <td>NaN</td>\n",
       "      <td>NaN</td>\n",
       "      <td>NaN</td>\n",
       "      <td>NaN</td>\n",
       "      <td>NaN</td>\n",
       "      <td>NaN</td>\n",
       "      <td>NaN</td>\n",
       "      <td>NaN</td>\n",
       "      <td>NaN</td>\n",
       "      <td>...</td>\n",
       "      <td>NaN</td>\n",
       "      <td>NaN</td>\n",
       "      <td>NaN</td>\n",
       "      <td>NaN</td>\n",
       "      <td>NaN</td>\n",
       "      <td>NaN</td>\n",
       "      <td>NaN</td>\n",
       "      <td>NaN</td>\n",
       "      <td>NaN</td>\n",
       "      <td>NaN</td>\n",
       "    </tr>\n",
       "    <tr>\n",
       "      <th>usd_returned_price</th>\n",
       "      <td>NaN</td>\n",
       "      <td>NaN</td>\n",
       "      <td>NaN</td>\n",
       "      <td>NaN</td>\n",
       "      <td>NaN</td>\n",
       "      <td>NaN</td>\n",
       "      <td>NaN</td>\n",
       "      <td>NaN</td>\n",
       "      <td>NaN</td>\n",
       "      <td>NaN</td>\n",
       "      <td>...</td>\n",
       "      <td>NaN</td>\n",
       "      <td>NaN</td>\n",
       "      <td>NaN</td>\n",
       "      <td>NaN</td>\n",
       "      <td>NaN</td>\n",
       "      <td>NaN</td>\n",
       "      <td>NaN</td>\n",
       "      <td>NaN</td>\n",
       "      <td>NaN</td>\n",
       "      <td>NaN</td>\n",
       "    </tr>\n",
       "    <tr>\n",
       "      <th>store_num</th>\n",
       "      <td>0.180348</td>\n",
       "      <td>0.184155</td>\n",
       "      <td>0.118560</td>\n",
       "      <td>0.142410</td>\n",
       "      <td>0.071944</td>\n",
       "      <td>0.049378</td>\n",
       "      <td>0.035408</td>\n",
       "      <td>NaN</td>\n",
       "      <td>0.298551</td>\n",
       "      <td>0.055284</td>\n",
       "      <td>...</td>\n",
       "      <td>-0.129323</td>\n",
       "      <td>-0.129323</td>\n",
       "      <td>0.994527</td>\n",
       "      <td>-0.129878</td>\n",
       "      <td>0.064464</td>\n",
       "      <td>0.064717</td>\n",
       "      <td>NaN</td>\n",
       "      <td>NaN</td>\n",
       "      <td>1.000000</td>\n",
       "      <td>-0.303561</td>\n",
       "    </tr>\n",
       "    <tr>\n",
       "      <th>market_id</th>\n",
       "      <td>-0.095397</td>\n",
       "      <td>-0.109034</td>\n",
       "      <td>-0.245760</td>\n",
       "      <td>-0.332928</td>\n",
       "      <td>-0.119316</td>\n",
       "      <td>-0.137428</td>\n",
       "      <td>-0.063838</td>\n",
       "      <td>NaN</td>\n",
       "      <td>-0.997809</td>\n",
       "      <td>-0.176036</td>\n",
       "      <td>...</td>\n",
       "      <td>0.195188</td>\n",
       "      <td>0.195188</td>\n",
       "      <td>-0.286564</td>\n",
       "      <td>0.283311</td>\n",
       "      <td>-0.099432</td>\n",
       "      <td>-0.101789</td>\n",
       "      <td>NaN</td>\n",
       "      <td>NaN</td>\n",
       "      <td>-0.303561</td>\n",
       "      <td>1.000000</td>\n",
       "    </tr>\n",
       "  </tbody>\n",
       "</table>\n",
       "<p>22 rows × 22 columns</p>\n",
       "</div>"
      ],
      "text/plain": [
       "                      txn_detail_id    txn_id  sale_line_num  item_qty  \\\n",
       "txn_detail_id              1.000000  0.999173       0.013578  0.546487   \n",
       "txn_id                     0.999173  1.000000       0.015452  0.563729   \n",
       "sale_line_num              0.013578  0.015452       1.000000  0.005117   \n",
       "item_qty                   0.546487  0.563729       0.005117  1.000000   \n",
       "net_item_qty              -0.113138 -0.104424       0.011854  0.074556   \n",
       "local_total_price          0.344214  0.356419      -0.025983  0.734413   \n",
       "local_unit_price           0.208879  0.219609      -0.042768  0.486640   \n",
       "local_total_tax                 NaN       NaN            NaN       NaN   \n",
       "usd_conversion_rate        0.056959  0.069549       0.249193  0.284777   \n",
       "usd_total_price            0.290449  0.301628      -0.009963  0.683675   \n",
       "usd_unit_price             0.164850  0.175523      -0.011453  0.450512   \n",
       "usd_total_tax                   NaN       NaN            NaN       NaN   \n",
       "create_src_sys_id          0.139396  0.130597      -0.137392  0.283330   \n",
       "update_src_sys_id          0.139396  0.130597      -0.137392  0.283330   \n",
       "brand_id                   0.178511  0.182148       0.096386  0.135843   \n",
       "consumer_id               -0.045058 -0.049708      -0.196258  0.038365   \n",
       "local_net_price           -0.033460 -0.029317      -0.013867  0.058196   \n",
       "usd_net_price             -0.030020 -0.026066      -0.014067  0.057602   \n",
       "local_returned_price            NaN       NaN            NaN       NaN   \n",
       "usd_returned_price              NaN       NaN            NaN       NaN   \n",
       "store_num                  0.180348  0.184155       0.118560  0.142410   \n",
       "market_id                 -0.095397 -0.109034      -0.245760 -0.332928   \n",
       "\n",
       "                      net_item_qty  local_total_price  local_unit_price  \\\n",
       "txn_detail_id            -0.113138           0.344214          0.208879   \n",
       "txn_id                   -0.104424           0.356419          0.219609   \n",
       "sale_line_num             0.011854          -0.025983         -0.042768   \n",
       "item_qty                  0.074556           0.734413          0.486640   \n",
       "net_item_qty              1.000000           0.357246          0.534380   \n",
       "local_total_price         0.357246           1.000000          0.820869   \n",
       "local_unit_price          0.534380           0.820869          1.000000   \n",
       "local_total_tax                NaN                NaN               NaN   \n",
       "usd_conversion_rate       0.120166           0.103869          0.039090   \n",
       "usd_total_price           0.384380           0.992213          0.816614   \n",
       "usd_unit_price            0.563496           0.797938          0.988349   \n",
       "usd_total_tax                  NaN                NaN               NaN   \n",
       "create_src_sys_id        -0.523533           0.168177         -0.123551   \n",
       "update_src_sys_id        -0.523533           0.168177         -0.123551   \n",
       "brand_id                  0.072580           0.047203          0.032922   \n",
       "consumer_id              -0.227014           0.043434         -0.065709   \n",
       "local_net_price           0.780569           0.475907          0.741597   \n",
       "usd_net_price             0.772597           0.475794          0.741839   \n",
       "local_returned_price           NaN                NaN               NaN   \n",
       "usd_returned_price             NaN                NaN               NaN   \n",
       "store_num                 0.071944           0.049378          0.035408   \n",
       "market_id                -0.119316          -0.137428         -0.063838   \n",
       "\n",
       "                      local_total_tax  usd_conversion_rate  usd_total_price  \\\n",
       "txn_detail_id                     NaN             0.056959         0.290449   \n",
       "txn_id                            NaN             0.069549         0.301628   \n",
       "sale_line_num                     NaN             0.249193        -0.009963   \n",
       "item_qty                          NaN             0.284777         0.683675   \n",
       "net_item_qty                      NaN             0.120166         0.384380   \n",
       "local_total_price                 NaN             0.103869         0.992213   \n",
       "local_unit_price                  NaN             0.039090         0.816614   \n",
       "local_total_tax                   NaN                  NaN              NaN   \n",
       "usd_conversion_rate               NaN             1.000000         0.147713   \n",
       "usd_total_price                   NaN             0.147713         1.000000   \n",
       "usd_unit_price                    NaN             0.150244         0.809485   \n",
       "usd_total_tax                     NaN                  NaN              NaN   \n",
       "create_src_sys_id                 NaN            -0.199238         0.164429   \n",
       "update_src_sys_id                 NaN            -0.199238         0.164429   \n",
       "brand_id                          NaN             0.281408         0.052478   \n",
       "consumer_id                       NaN            -0.283119         0.037241   \n",
       "local_net_price                   NaN             0.099844         0.515402   \n",
       "usd_net_price                     NaN             0.102061         0.516122   \n",
       "local_returned_price              NaN                  NaN              NaN   \n",
       "usd_returned_price                NaN                  NaN              NaN   \n",
       "store_num                         NaN             0.298551         0.055284   \n",
       "market_id                         NaN            -0.997809        -0.176036   \n",
       "\n",
       "                      ...  create_src_sys_id  update_src_sys_id  brand_id  \\\n",
       "txn_detail_id         ...           0.139396           0.139396  0.178511   \n",
       "txn_id                ...           0.130597           0.130597  0.182148   \n",
       "sale_line_num         ...          -0.137392          -0.137392  0.096386   \n",
       "item_qty              ...           0.283330           0.283330  0.135843   \n",
       "net_item_qty          ...          -0.523533          -0.523533  0.072580   \n",
       "local_total_price     ...           0.168177           0.168177  0.047203   \n",
       "local_unit_price      ...          -0.123551          -0.123551  0.032922   \n",
       "local_total_tax       ...                NaN                NaN       NaN   \n",
       "usd_conversion_rate   ...          -0.199238          -0.199238  0.281408   \n",
       "usd_total_price       ...           0.164429           0.164429  0.052478   \n",
       "usd_unit_price        ...          -0.152406          -0.152406  0.061154   \n",
       "usd_total_tax         ...                NaN                NaN       NaN   \n",
       "create_src_sys_id     ...           1.000000           1.000000 -0.129647   \n",
       "update_src_sys_id     ...           1.000000           1.000000 -0.129647   \n",
       "brand_id              ...          -0.129647          -0.129647  1.000000   \n",
       "consumer_id           ...           0.425839           0.425839 -0.113806   \n",
       "local_net_price       ...          -0.408653          -0.408653  0.064700   \n",
       "usd_net_price         ...          -0.404480          -0.404480  0.064907   \n",
       "local_returned_price  ...                NaN                NaN       NaN   \n",
       "usd_returned_price    ...                NaN                NaN       NaN   \n",
       "store_num             ...          -0.129323          -0.129323  0.994527   \n",
       "market_id             ...           0.195188           0.195188 -0.286564   \n",
       "\n",
       "                      consumer_id  local_net_price  usd_net_price  \\\n",
       "txn_detail_id           -0.045058        -0.033460      -0.030020   \n",
       "txn_id                  -0.049708        -0.029317      -0.026066   \n",
       "sale_line_num           -0.196258        -0.013867      -0.014067   \n",
       "item_qty                 0.038365         0.058196       0.057602   \n",
       "net_item_qty            -0.227014         0.780569       0.772597   \n",
       "local_total_price        0.043434         0.475907       0.475794   \n",
       "local_unit_price        -0.065709         0.741597       0.741839   \n",
       "local_total_tax               NaN              NaN            NaN   \n",
       "usd_conversion_rate     -0.283119         0.099844       0.102061   \n",
       "usd_total_price          0.037241         0.515402       0.516122   \n",
       "usd_unit_price          -0.097487         0.782146       0.783668   \n",
       "usd_total_tax                 NaN              NaN            NaN   \n",
       "create_src_sys_id        0.425839        -0.408653      -0.404480   \n",
       "update_src_sys_id        0.425839        -0.408653      -0.404480   \n",
       "brand_id                -0.113806         0.064700       0.064907   \n",
       "consumer_id              1.000000        -0.186983      -0.187187   \n",
       "local_net_price         -0.186983         1.000000       0.999199   \n",
       "usd_net_price           -0.187187         0.999199       1.000000   \n",
       "local_returned_price          NaN              NaN            NaN   \n",
       "usd_returned_price            NaN              NaN            NaN   \n",
       "store_num               -0.129878         0.064464       0.064717   \n",
       "market_id                0.283311        -0.099432      -0.101789   \n",
       "\n",
       "                      local_returned_price  usd_returned_price  store_num  \\\n",
       "txn_detail_id                          NaN                 NaN   0.180348   \n",
       "txn_id                                 NaN                 NaN   0.184155   \n",
       "sale_line_num                          NaN                 NaN   0.118560   \n",
       "item_qty                               NaN                 NaN   0.142410   \n",
       "net_item_qty                           NaN                 NaN   0.071944   \n",
       "local_total_price                      NaN                 NaN   0.049378   \n",
       "local_unit_price                       NaN                 NaN   0.035408   \n",
       "local_total_tax                        NaN                 NaN        NaN   \n",
       "usd_conversion_rate                    NaN                 NaN   0.298551   \n",
       "usd_total_price                        NaN                 NaN   0.055284   \n",
       "usd_unit_price                         NaN                 NaN   0.064809   \n",
       "usd_total_tax                          NaN                 NaN        NaN   \n",
       "create_src_sys_id                      NaN                 NaN  -0.129323   \n",
       "update_src_sys_id                      NaN                 NaN  -0.129323   \n",
       "brand_id                               NaN                 NaN   0.994527   \n",
       "consumer_id                            NaN                 NaN  -0.129878   \n",
       "local_net_price                        NaN                 NaN   0.064464   \n",
       "usd_net_price                          NaN                 NaN   0.064717   \n",
       "local_returned_price                   NaN                 NaN        NaN   \n",
       "usd_returned_price                     NaN                 NaN        NaN   \n",
       "store_num                              NaN                 NaN   1.000000   \n",
       "market_id                              NaN                 NaN  -0.303561   \n",
       "\n",
       "                      market_id  \n",
       "txn_detail_id         -0.095397  \n",
       "txn_id                -0.109034  \n",
       "sale_line_num         -0.245760  \n",
       "item_qty              -0.332928  \n",
       "net_item_qty          -0.119316  \n",
       "local_total_price     -0.137428  \n",
       "local_unit_price      -0.063838  \n",
       "local_total_tax             NaN  \n",
       "usd_conversion_rate   -0.997809  \n",
       "usd_total_price       -0.176036  \n",
       "usd_unit_price        -0.170204  \n",
       "usd_total_tax               NaN  \n",
       "create_src_sys_id      0.195188  \n",
       "update_src_sys_id      0.195188  \n",
       "brand_id              -0.286564  \n",
       "consumer_id            0.283311  \n",
       "local_net_price       -0.099432  \n",
       "usd_net_price         -0.101789  \n",
       "local_returned_price        NaN  \n",
       "usd_returned_price          NaN  \n",
       "store_num             -0.303561  \n",
       "market_id              1.000000  \n",
       "\n",
       "[22 rows x 22 columns]"
      ]
     },
     "execution_count": 12,
     "metadata": {},
     "output_type": "execute_result"
    }
   ],
   "source": [
    "df.corr()"
   ]
  },
  {
   "cell_type": "markdown",
   "id": "58762752",
   "metadata": {},
   "source": [
    "## Now we will fetch the month from create time stamp and update time stamp and store it as a new column"
   ]
  },
  {
   "cell_type": "code",
   "execution_count": 58,
   "id": "f2d53629",
   "metadata": {},
   "outputs": [],
   "source": [
    "df['create_timestamp']=df['create_timestamp'].astype('datetime64[ns]')\n",
    "df['update_timestamp']=df['update_timestamp'].astype('datetime64[ns]')\n",
    "df['create_month']=df.create_timestamp.dt.month\n",
    "df['update_month']=df.update_timestamp.dt.month"
   ]
  },
  {
   "cell_type": "code",
   "execution_count": 59,
   "id": "de120206",
   "metadata": {},
   "outputs": [
    {
     "data": {
      "text/html": [
       "<div>\n",
       "<style scoped>\n",
       "    .dataframe tbody tr th:only-of-type {\n",
       "        vertical-align: middle;\n",
       "    }\n",
       "\n",
       "    .dataframe tbody tr th {\n",
       "        vertical-align: top;\n",
       "    }\n",
       "\n",
       "    .dataframe thead th {\n",
       "        text-align: right;\n",
       "    }\n",
       "</style>\n",
       "<table border=\"1\" class=\"dataframe\">\n",
       "  <thead>\n",
       "    <tr style=\"text-align: right;\">\n",
       "      <th></th>\n",
       "      <th>txn_detail_id</th>\n",
       "      <th>txn_id</th>\n",
       "      <th>sale_line_type</th>\n",
       "      <th>sale_line_num</th>\n",
       "      <th>src_txn_cd</th>\n",
       "      <th>sale_dt</th>\n",
       "      <th>item_qty</th>\n",
       "      <th>net_item_qty</th>\n",
       "      <th>local_total_price</th>\n",
       "      <th>local_unit_price</th>\n",
       "      <th>...</th>\n",
       "      <th>local_net_price</th>\n",
       "      <th>usd_net_price</th>\n",
       "      <th>local_returned_price</th>\n",
       "      <th>usd_returned_price</th>\n",
       "      <th>visit_qualifying_flag</th>\n",
       "      <th>store_num</th>\n",
       "      <th>channel_cd</th>\n",
       "      <th>market_id</th>\n",
       "      <th>create_month</th>\n",
       "      <th>update_month</th>\n",
       "    </tr>\n",
       "  </thead>\n",
       "  <tbody>\n",
       "    <tr>\n",
       "      <th>0</th>\n",
       "      <td>2026484142</td>\n",
       "      <td>543519430</td>\n",
       "      <td>Other</td>\n",
       "      <td>20</td>\n",
       "      <td>DN</td>\n",
       "      <td>9/1/2022</td>\n",
       "      <td>1</td>\n",
       "      <td>0</td>\n",
       "      <td>10.0</td>\n",
       "      <td>10.0</td>\n",
       "      <td>...</td>\n",
       "      <td>0</td>\n",
       "      <td>0.0</td>\n",
       "      <td>0</td>\n",
       "      <td>0</td>\n",
       "      <td>N</td>\n",
       "      <td>21999</td>\n",
       "      <td>WEB</td>\n",
       "      <td>1</td>\n",
       "      <td>9</td>\n",
       "      <td>9</td>\n",
       "    </tr>\n",
       "    <tr>\n",
       "      <th>1</th>\n",
       "      <td>2026065451</td>\n",
       "      <td>543472228</td>\n",
       "      <td>Other</td>\n",
       "      <td>20</td>\n",
       "      <td>DN</td>\n",
       "      <td>8/30/2022</td>\n",
       "      <td>1</td>\n",
       "      <td>0</td>\n",
       "      <td>1.0</td>\n",
       "      <td>1.0</td>\n",
       "      <td>...</td>\n",
       "      <td>0</td>\n",
       "      <td>0.0</td>\n",
       "      <td>0</td>\n",
       "      <td>0</td>\n",
       "      <td>N</td>\n",
       "      <td>11700</td>\n",
       "      <td>WEB</td>\n",
       "      <td>1</td>\n",
       "      <td>8</td>\n",
       "      <td>9</td>\n",
       "    </tr>\n",
       "    <tr>\n",
       "      <th>2</th>\n",
       "      <td>2026778316</td>\n",
       "      <td>543554612</td>\n",
       "      <td>Other</td>\n",
       "      <td>30</td>\n",
       "      <td>DN</td>\n",
       "      <td>9/2/2022</td>\n",
       "      <td>1</td>\n",
       "      <td>0</td>\n",
       "      <td>10.0</td>\n",
       "      <td>10.0</td>\n",
       "      <td>...</td>\n",
       "      <td>0</td>\n",
       "      <td>0.0</td>\n",
       "      <td>0</td>\n",
       "      <td>0</td>\n",
       "      <td>N</td>\n",
       "      <td>27700</td>\n",
       "      <td>Mobile</td>\n",
       "      <td>1</td>\n",
       "      <td>9</td>\n",
       "      <td>9</td>\n",
       "    </tr>\n",
       "    <tr>\n",
       "      <th>3</th>\n",
       "      <td>2026719630</td>\n",
       "      <td>543547922</td>\n",
       "      <td>Other</td>\n",
       "      <td>40</td>\n",
       "      <td>DN</td>\n",
       "      <td>9/2/2022</td>\n",
       "      <td>1</td>\n",
       "      <td>0</td>\n",
       "      <td>5.0</td>\n",
       "      <td>5.0</td>\n",
       "      <td>...</td>\n",
       "      <td>0</td>\n",
       "      <td>0.0</td>\n",
       "      <td>0</td>\n",
       "      <td>0</td>\n",
       "      <td>N</td>\n",
       "      <td>41700</td>\n",
       "      <td>Mobile</td>\n",
       "      <td>1</td>\n",
       "      <td>9</td>\n",
       "      <td>9</td>\n",
       "    </tr>\n",
       "    <tr>\n",
       "      <th>4</th>\n",
       "      <td>2026760180</td>\n",
       "      <td>543552520</td>\n",
       "      <td>Other</td>\n",
       "      <td>20</td>\n",
       "      <td>DN</td>\n",
       "      <td>9/2/2022</td>\n",
       "      <td>1</td>\n",
       "      <td>0</td>\n",
       "      <td>5.0</td>\n",
       "      <td>5.0</td>\n",
       "      <td>...</td>\n",
       "      <td>0</td>\n",
       "      <td>0.0</td>\n",
       "      <td>0</td>\n",
       "      <td>0</td>\n",
       "      <td>N</td>\n",
       "      <td>3700</td>\n",
       "      <td>WEB</td>\n",
       "      <td>1</td>\n",
       "      <td>9</td>\n",
       "      <td>9</td>\n",
       "    </tr>\n",
       "  </tbody>\n",
       "</table>\n",
       "<p>5 rows × 37 columns</p>\n",
       "</div>"
      ],
      "text/plain": [
       "   txn_detail_id     txn_id sale_line_type  sale_line_num src_txn_cd  \\\n",
       "0     2026484142  543519430          Other             20         DN   \n",
       "1     2026065451  543472228          Other             20         DN   \n",
       "2     2026778316  543554612          Other             30         DN   \n",
       "3     2026719630  543547922          Other             40         DN   \n",
       "4     2026760180  543552520          Other             20         DN   \n",
       "\n",
       "     sale_dt  item_qty  net_item_qty  local_total_price  local_unit_price  \\\n",
       "0   9/1/2022         1             0               10.0              10.0   \n",
       "1  8/30/2022         1             0                1.0               1.0   \n",
       "2   9/2/2022         1             0               10.0              10.0   \n",
       "3   9/2/2022         1             0                5.0               5.0   \n",
       "4   9/2/2022         1             0                5.0               5.0   \n",
       "\n",
       "   ...  local_net_price usd_net_price  local_returned_price  \\\n",
       "0  ...                0           0.0                     0   \n",
       "1  ...                0           0.0                     0   \n",
       "2  ...                0           0.0                     0   \n",
       "3  ...                0           0.0                     0   \n",
       "4  ...                0           0.0                     0   \n",
       "\n",
       "   usd_returned_price  visit_qualifying_flag  store_num channel_cd market_id  \\\n",
       "0                   0                      N      21999        WEB         1   \n",
       "1                   0                      N      11700        WEB         1   \n",
       "2                   0                      N      27700     Mobile         1   \n",
       "3                   0                      N      41700     Mobile         1   \n",
       "4                   0                      N       3700        WEB         1   \n",
       "\n",
       "   create_month update_month  \n",
       "0             9            9  \n",
       "1             8            9  \n",
       "2             9            9  \n",
       "3             9            9  \n",
       "4             9            9  \n",
       "\n",
       "[5 rows x 37 columns]"
      ]
     },
     "execution_count": 59,
     "metadata": {},
     "output_type": "execute_result"
    }
   ],
   "source": [
    "df.head()"
   ]
  },
  {
   "cell_type": "markdown",
   "id": "ec4182ca",
   "metadata": {},
   "source": [
    "# Exploratory Data Analysis"
   ]
  },
  {
   "cell_type": "markdown",
   "id": "253685ea",
   "metadata": {},
   "source": [
    "## Sale line type"
   ]
  },
  {
   "cell_type": "code",
   "execution_count": 13,
   "id": "3671741a",
   "metadata": {},
   "outputs": [
    {
     "data": {
      "text/plain": [
       "<AxesSubplot:>"
      ]
     },
     "execution_count": 13,
     "metadata": {},
     "output_type": "execute_result"
    },
    {
     "data": {
      "image/png": "[encoded data removed]",
      "text/plain": [
       "<Figure size 432x288 with 1 Axes>"
      ]
     },
     "metadata": {
      "needs_background": "light"
     },
     "output_type": "display_data"
    }
   ],
   "source": [
    "df['sale_line_type'].value_counts().plot(kind='bar')"
   ]
  },
  {
   "cell_type": "markdown",
   "id": "acaaf23c",
   "metadata": {},
   "source": [
    "### As we can see here shipping sale line type has highest count and non saleable discounthas lowest count."
   ]
  },
  {
   "cell_type": "code",
   "execution_count": 14,
   "id": "ba8abe2f",
   "metadata": {},
   "outputs": [
    {
     "data": {
      "text/plain": [
       "<AxesSubplot:>"
      ]
     },
     "execution_count": 14,
     "metadata": {},
     "output_type": "execute_result"
    },
    {
     "data": {
      "image/png": "[encoded data removed]",
      "text/plain": [
       "<Figure size 432x288 with 1 Axes>"
      ]
     },
     "metadata": {
      "needs_background": "light"
     },
     "output_type": "display_data"
    }
   ],
   "source": [
    "df['src_txn_cd'].value_counts().plot(kind='bar')"
   ]
  },
  {
   "cell_type": "markdown",
   "id": "43355212",
   "metadata": {},
   "source": [
    "## Currency code"
   ]
  },
  {
   "cell_type": "code",
   "execution_count": 15,
   "id": "082ebb2d",
   "metadata": {
    "scrolled": false
   },
   "outputs": [
    {
     "data": {
      "text/plain": [
       "<AxesSubplot:>"
      ]
     },
     "execution_count": 15,
     "metadata": {},
     "output_type": "execute_result"
    },
    {
     "data": {
      "image/png": "[encoded data removed]",
      "text/plain": [
       "<Figure size 432x288 with 1 Axes>"
      ]
     },
     "metadata": {
      "needs_background": "light"
     },
     "output_type": "display_data"
    }
   ],
   "source": [
    "df['currency_cd'].value_counts().plot(kind='bar')"
   ]
  },
  {
   "cell_type": "markdown",
   "id": "9049009d",
   "metadata": {},
   "source": [
    "### Here we can see canadian currency dollars has maximum order counts"
   ]
  },
  {
   "cell_type": "markdown",
   "id": "428b154d",
   "metadata": {},
   "source": [
    "## Visit qualifying flag"
   ]
  },
  {
   "cell_type": "code",
   "execution_count": 16,
   "id": "d786a2d2",
   "metadata": {
    "scrolled": true
   },
   "outputs": [
    {
     "data": {
      "text/plain": [
       "<AxesSubplot:>"
      ]
     },
     "execution_count": 16,
     "metadata": {},
     "output_type": "execute_result"
    },
    {
     "data": {
      "image/png": "[encoded data removed]",
      "text/plain": [
       "<Figure size 432x288 with 1 Axes>"
      ]
     },
     "metadata": {
      "needs_background": "light"
     },
     "output_type": "display_data"
    }
   ],
   "source": [
    "df['visit_qualifying_flag'].value_counts().plot(kind='bar')"
   ]
  },
  {
   "cell_type": "markdown",
   "id": "dd0f85bf",
   "metadata": {},
   "source": [
    "### So here we can see non qualified customers are more rather than qualified customers."
   ]
  },
  {
   "cell_type": "markdown",
   "id": "4972602f",
   "metadata": {},
   "source": [
    "## Month of bill created "
   ]
  },
  {
   "cell_type": "code",
   "execution_count": 50,
   "id": "9a8cdc07",
   "metadata": {},
   "outputs": [
    {
     "data": {
      "text/plain": [
       "<AxesSubplot:>"
      ]
     },
     "execution_count": 50,
     "metadata": {},
     "output_type": "execute_result"
    },
    {
     "data": {
      "image/png": "[encoded data removed]",
      "text/plain": [
       "<Figure size 432x288 with 1 Axes>"
      ]
     },
     "metadata": {
      "needs_background": "light"
     },
     "output_type": "display_data"
    }
   ],
   "source": [
    "df['create_month'].value_counts().plot(kind='bar')"
   ]
  },
  {
   "cell_type": "markdown",
   "id": "3c96d5f6",
   "metadata": {},
   "source": [
    "### So here we can in septemeber month there are highest no. of transaction bills have been generated."
   ]
  },
  {
   "cell_type": "markdown",
   "id": "1361cbb8",
   "metadata": {},
   "source": [
    "## Sale line number"
   ]
  },
  {
   "cell_type": "code",
   "execution_count": 18,
   "id": "c7451bbf",
   "metadata": {},
   "outputs": [
    {
     "data": {
      "text/plain": [
       "(array([576., 237.,  62.,  79.,  25.,  13.,   5.,   1.,   1.,   1.]),\n",
       " array([ 10.,  26.,  42.,  58.,  74.,  90., 106., 122., 138., 154., 170.]),\n",
       " <BarContainer object of 10 artists>)"
      ]
     },
     "execution_count": 18,
     "metadata": {},
     "output_type": "execute_result"
    },
    {
     "data": {
      "image/png": "[encoded data removed]",
      "text/plain": [
       "<Figure size 432x288 with 1 Axes>"
      ]
     },
     "metadata": {
      "needs_background": "light"
     },
     "output_type": "display_data"
    }
   ],
   "source": [
    "plt.hist(df['sale_line_num'])"
   ]
  },
  {
   "cell_type": "markdown",
   "id": "f95a48a1",
   "metadata": {},
   "source": [
    "### As we can see the sale line number is highest between 10 to 30."
   ]
  },
  {
   "cell_type": "markdown",
   "id": "5660c21e",
   "metadata": {},
   "source": [
    "## Local total price"
   ]
  },
  {
   "cell_type": "code",
   "execution_count": 90,
   "id": "61a987ff",
   "metadata": {},
   "outputs": [
    {
     "name": "stderr",
     "output_type": "stream",
     "text": [
      "C:\\Users\\yamini.ailani\\Desktop\\lib\\site-packages\\seaborn\\distributions.py:2619: FutureWarning: `distplot` is a deprecated function and will be removed in a future version. Please adapt your code to use either `displot` (a figure-level function with similar flexibility) or `histplot` (an axes-level function for histograms).\n",
      "  warnings.warn(msg, FutureWarning)\n"
     ]
    },
    {
     "data": {
      "text/plain": [
       "<AxesSubplot:xlabel='local_total_price', ylabel='Density'>"
      ]
     },
     "execution_count": 90,
     "metadata": {},
     "output_type": "execute_result"
    },
    {
     "data": {
      "image/png": "[encoded data removed]",
      "text/plain": [
       "<Figure size 432x288 with 1 Axes>"
      ]
     },
     "metadata": {
      "needs_background": "light"
     },
     "output_type": "display_data"
    }
   ],
   "source": [
    "sns.distplot(df['local_total_price'])"
   ]
  },
  {
   "cell_type": "code",
   "execution_count": 22,
   "id": "55a72c5c",
   "metadata": {},
   "outputs": [
    {
     "data": {
      "text/plain": [
       "-0.761849355096739"
      ]
     },
     "execution_count": 22,
     "metadata": {},
     "output_type": "execute_result"
    }
   ],
   "source": [
    "df['local_total_price'].skew()"
   ]
  },
  {
   "cell_type": "markdown",
   "id": "9105dae3",
   "metadata": {},
   "source": [
    "### Here we can see that prices are skewed towards negatively "
   ]
  },
  {
   "cell_type": "code",
   "execution_count": 92,
   "id": "58a9a305",
   "metadata": {},
   "outputs": [],
   "source": [
    "## Local unit price"
   ]
  },
  {
   "cell_type": "code",
   "execution_count": 91,
   "id": "6c4dce64",
   "metadata": {},
   "outputs": [
    {
     "name": "stderr",
     "output_type": "stream",
     "text": [
      "C:\\Users\\yamini.ailani\\Desktop\\lib\\site-packages\\seaborn\\distributions.py:2619: FutureWarning: `distplot` is a deprecated function and will be removed in a future version. Please adapt your code to use either `displot` (a figure-level function with similar flexibility) or `histplot` (an axes-level function for histograms).\n",
      "  warnings.warn(msg, FutureWarning)\n"
     ]
    },
    {
     "data": {
      "text/plain": [
       "<AxesSubplot:xlabel='local_unit_price', ylabel='Density'>"
      ]
     },
     "execution_count": 91,
     "metadata": {},
     "output_type": "execute_result"
    },
    {
     "data": {
      "image/png": "[encoded data removed]",
      "text/plain": [
       "<Figure size 432x288 with 1 Axes>"
      ]
     },
     "metadata": {
      "needs_background": "light"
     },
     "output_type": "display_data"
    }
   ],
   "source": [
    "sns.distplot(df['local_unit_price'])"
   ]
  },
  {
   "cell_type": "code",
   "execution_count": 24,
   "id": "79d97909",
   "metadata": {},
   "outputs": [
    {
     "data": {
      "text/plain": [
       "5.3258416240048"
      ]
     },
     "execution_count": 24,
     "metadata": {},
     "output_type": "execute_result"
    }
   ],
   "source": [
    "df['local_unit_price'].skew()"
   ]
  },
  {
   "cell_type": "markdown",
   "id": "4ad66563",
   "metadata": {},
   "source": [
    "### Here we can see locat unit prices are positively skewed."
   ]
  },
  {
   "cell_type": "markdown",
   "id": "ec92a71d",
   "metadata": {},
   "source": [
    "## USD total price & USD unit price"
   ]
  },
  {
   "cell_type": "code",
   "execution_count": 26,
   "id": "17de42d1",
   "metadata": {},
   "outputs": [
    {
     "name": "stderr",
     "output_type": "stream",
     "text": [
      "C:\\Users\\yamini.ailani\\Desktop\\lib\\site-packages\\seaborn\\distributions.py:2619: FutureWarning: `distplot` is a deprecated function and will be removed in a future version. Please adapt your code to use either `displot` (a figure-level function with similar flexibility) or `histplot` (an axes-level function for histograms).\n",
      "  warnings.warn(msg, FutureWarning)\n"
     ]
    },
    {
     "data": {
      "text/plain": [
       "<AxesSubplot:xlabel='usd_total_price', ylabel='Density'>"
      ]
     },
     "execution_count": 26,
     "metadata": {},
     "output_type": "execute_result"
    },
    {
     "data": {
      "image/png": "[encoded data removed]",
      "text/plain": [
       "<Figure size 432x288 with 1 Axes>"
      ]
     },
     "metadata": {
      "needs_background": "light"
     },
     "output_type": "display_data"
    }
   ],
   "source": [
    "sns.distplot(df['usd_total_price'])"
   ]
  },
  {
   "cell_type": "code",
   "execution_count": 27,
   "id": "28ee9f9a",
   "metadata": {},
   "outputs": [
    {
     "data": {
      "text/plain": [
       "-0.7214287698957609"
      ]
     },
     "execution_count": 27,
     "metadata": {},
     "output_type": "execute_result"
    }
   ],
   "source": [
    "df['usd_total_price'].skew()"
   ]
  },
  {
   "cell_type": "code",
   "execution_count": 28,
   "id": "c54097c3",
   "metadata": {},
   "outputs": [
    {
     "name": "stderr",
     "output_type": "stream",
     "text": [
      "C:\\Users\\yamini.ailani\\Desktop\\lib\\site-packages\\seaborn\\distributions.py:2619: FutureWarning: `distplot` is a deprecated function and will be removed in a future version. Please adapt your code to use either `displot` (a figure-level function with similar flexibility) or `histplot` (an axes-level function for histograms).\n",
      "  warnings.warn(msg, FutureWarning)\n"
     ]
    },
    {
     "data": {
      "text/plain": [
       "<AxesSubplot:xlabel='usd_unit_price', ylabel='Density'>"
      ]
     },
     "execution_count": 28,
     "metadata": {},
     "output_type": "execute_result"
    },
    {
     "data": {
      "image/png": "[encoded data removed]",
      "text/plain": [
       "<Figure size 432x288 with 1 Axes>"
      ]
     },
     "metadata": {
      "needs_background": "light"
     },
     "output_type": "display_data"
    }
   ],
   "source": [
    "sns.distplot(df['usd_unit_price'])"
   ]
  },
  {
   "cell_type": "code",
   "execution_count": 36,
   "id": "4d92ac0f",
   "metadata": {},
   "outputs": [
    {
     "data": {
      "text/plain": [
       "6.3559974076931995"
      ]
     },
     "execution_count": 36,
     "metadata": {},
     "output_type": "execute_result"
    }
   ],
   "source": [
    "df['usd_unit_price'].skew()"
   ]
  },
  {
   "cell_type": "markdown",
   "id": "9d5c84ee",
   "metadata": {},
   "source": [
    "### So there is little bit difference between skewness of local total & unit price and USD total & unit price"
   ]
  },
  {
   "cell_type": "code",
   "execution_count": 93,
   "id": "5c676950",
   "metadata": {},
   "outputs": [],
   "source": [
    "## Relation ship between local total price and USD total price"
   ]
  },
  {
   "cell_type": "code",
   "execution_count": 41,
   "id": "a93d6edf",
   "metadata": {},
   "outputs": [
    {
     "name": "stderr",
     "output_type": "stream",
     "text": [
      "C:\\Users\\yamini.ailani\\Desktop\\lib\\site-packages\\seaborn\\_decorators.py:36: FutureWarning: Pass the following variables as keyword args: x, y. From version 0.12, the only valid positional argument will be `data`, and passing other arguments without an explicit keyword will result in an error or misinterpretation.\n",
      "  warnings.warn(\n"
     ]
    },
    {
     "data": {
      "text/plain": [
       "<AxesSubplot:xlabel='local_total_price', ylabel='usd_total_price'>"
      ]
     },
     "execution_count": 41,
     "metadata": {},
     "output_type": "execute_result"
    },
    {
     "data": {
      "image/png": "[encoded data removed]",
      "text/plain": [
       "<Figure size 432x288 with 1 Axes>"
      ]
     },
     "metadata": {
      "needs_background": "light"
     },
     "output_type": "display_data"
    }
   ],
   "source": [
    "sns.scatterplot(df['local_total_price'],df['usd_total_price'])"
   ]
  },
  {
   "cell_type": "markdown",
   "id": "640675dd",
   "metadata": {},
   "source": [
    "### So there is a linear relation ship between local total price and USD total price"
   ]
  },
  {
   "cell_type": "markdown",
   "id": "fc31ab66",
   "metadata": {},
   "source": [
    "## USD conversion rate vs Bill create month"
   ]
  },
  {
   "cell_type": "code",
   "execution_count": 71,
   "id": "c445c1ac",
   "metadata": {},
   "outputs": [
    {
     "name": "stderr",
     "output_type": "stream",
     "text": [
      "C:\\Users\\yamini.ailani\\Desktop\\lib\\site-packages\\seaborn\\_decorators.py:36: FutureWarning: Pass the following variables as keyword args: x, y. From version 0.12, the only valid positional argument will be `data`, and passing other arguments without an explicit keyword will result in an error or misinterpretation.\n",
      "  warnings.warn(\n"
     ]
    },
    {
     "data": {
      "text/plain": [
       "0.763796066"
      ]
     },
     "execution_count": 71,
     "metadata": {},
     "output_type": "execute_result"
    },
    {
     "data": {
      "image/png": "[encoded data removed]",
      "text/plain": [
       "<Figure size 432x288 with 1 Axes>"
      ]
     },
     "metadata": {
      "needs_background": "light"
     },
     "output_type": "display_data"
    }
   ],
   "source": [
    "## Now we will find in which month usd conversion rate was down and in which month usd conversion was high\n",
    "sns.barplot(df['create_month'],df['usd_conversion_rate'])\n",
    "df['usd_conversion_rate'].min() ## min usd conversion rate is 0.763796066\n"
   ]
  },
  {
   "cell_type": "markdown",
   "id": "ddb974b4",
   "metadata": {},
   "source": [
    "### As we can see in the january and april there was highest usd conversion rate but in march and august there was lowest usd conversion rate."
   ]
  },
  {
   "cell_type": "markdown",
   "id": "ae1fb36a",
   "metadata": {},
   "source": [
    "## Item quantity vs Sale line type"
   ]
  },
  {
   "cell_type": "code",
   "execution_count": 64,
   "id": "3c319a52",
   "metadata": {},
   "outputs": [
    {
     "name": "stderr",
     "output_type": "stream",
     "text": [
      "C:\\Users\\yamini.ailani\\Desktop\\lib\\site-packages\\seaborn\\_decorators.py:36: FutureWarning: Pass the following variables as keyword args: x, y. From version 0.12, the only valid positional argument will be `data`, and passing other arguments without an explicit keyword will result in an error or misinterpretation.\n",
      "  warnings.warn(\n"
     ]
    },
    {
     "data": {
      "text/plain": [
       "<AxesSubplot:xlabel='item_qty', ylabel='sale_line_type'>"
      ]
     },
     "execution_count": 64,
     "metadata": {},
     "output_type": "execute_result"
    },
    {
     "data": {
      "image/png": "[encoded data removed]",
      "text/plain": [
       "<Figure size 432x288 with 1 Axes>"
      ]
     },
     "metadata": {
      "needs_background": "light"
     },
     "output_type": "display_data"
    }
   ],
   "source": [
    "sns.barplot(df['item_qty'],df['sale_line_type'])"
   ]
  },
  {
   "cell_type": "markdown",
   "id": "e1ffeeea",
   "metadata": {},
   "source": [
    "### As we can see shipping discount, Non saleable discount and discount has zero quantity order."
   ]
  },
  {
   "cell_type": "markdown",
   "id": "1a7c7899",
   "metadata": {},
   "source": [
    "## Channel code VS Item quantity"
   ]
  },
  {
   "cell_type": "code",
   "execution_count": 78,
   "id": "c0d366a7",
   "metadata": {},
   "outputs": [
    {
     "name": "stderr",
     "output_type": "stream",
     "text": [
      "C:\\Users\\yamini.ailani\\Desktop\\lib\\site-packages\\seaborn\\_decorators.py:36: FutureWarning: Pass the following variables as keyword args: x, y. From version 0.12, the only valid positional argument will be `data`, and passing other arguments without an explicit keyword will result in an error or misinterpretation.\n",
      "  warnings.warn(\n"
     ]
    },
    {
     "data": {
      "text/plain": [
       "<AxesSubplot:xlabel='channel_cd', ylabel='item_qty'>"
      ]
     },
     "execution_count": 78,
     "metadata": {},
     "output_type": "execute_result"
    },
    {
     "data": {
      "image/png": "[encoded data removed]",
      "text/plain": [
       "<Figure size 432x288 with 1 Axes>"
      ]
     },
     "metadata": {
      "needs_background": "light"
     },
     "output_type": "display_data"
    }
   ],
   "source": [
    "sns.barplot(df['channel_cd'],df['item_qty'])"
   ]
  },
  {
   "cell_type": "markdown",
   "id": "84478615",
   "metadata": {},
   "source": [
    "### Here we can see tablet channel code has highest no. of order quantity"
   ]
  },
  {
   "cell_type": "markdown",
   "id": "045f6ed4",
   "metadata": {},
   "source": [
    "## Qualified customers Vs Item quantity"
   ]
  },
  {
   "cell_type": "code",
   "execution_count": 80,
   "id": "7bedc505",
   "metadata": {},
   "outputs": [
    {
     "name": "stderr",
     "output_type": "stream",
     "text": [
      "C:\\Users\\yamini.ailani\\Desktop\\lib\\site-packages\\seaborn\\_decorators.py:36: FutureWarning: Pass the following variables as keyword args: x, y. From version 0.12, the only valid positional argument will be `data`, and passing other arguments without an explicit keyword will result in an error or misinterpretation.\n",
      "  warnings.warn(\n"
     ]
    },
    {
     "data": {
      "text/plain": [
       "<AxesSubplot:xlabel='visit_qualifying_flag', ylabel='item_qty'>"
      ]
     },
     "execution_count": 80,
     "metadata": {},
     "output_type": "execute_result"
    },
    {
     "data": {
      "image/png": "[encoded data removed]",
      "text/plain": [
       "<Figure size 432x288 with 1 Axes>"
      ]
     },
     "metadata": {
      "needs_background": "light"
     },
     "output_type": "display_data"
    }
   ],
   "source": [
    "sns.barplot(df['visit_qualifying_flag'],df['item_qty'])"
   ]
  },
  {
   "cell_type": "markdown",
   "id": "db7cea11",
   "metadata": {},
   "source": [
    "### Here we can see qualified customer has more order quantity"
   ]
  },
  {
   "cell_type": "markdown",
   "id": "fbd04954",
   "metadata": {},
   "source": [
    "## Sale line type Vs Qualifies customers"
   ]
  },
  {
   "cell_type": "code",
   "execution_count": 85,
   "id": "039daf0a",
   "metadata": {
    "scrolled": true
   },
   "outputs": [
    {
     "data": {
      "text/html": [
       "<div>\n",
       "<style scoped>\n",
       "    .dataframe tbody tr th:only-of-type {\n",
       "        vertical-align: middle;\n",
       "    }\n",
       "\n",
       "    .dataframe tbody tr th {\n",
       "        vertical-align: top;\n",
       "    }\n",
       "\n",
       "    .dataframe thead th {\n",
       "        text-align: right;\n",
       "    }\n",
       "</style>\n",
       "<table border=\"1\" class=\"dataframe\">\n",
       "  <thead>\n",
       "    <tr style=\"text-align: right;\">\n",
       "      <th>visit_qualifying_flag</th>\n",
       "      <th>N</th>\n",
       "      <th>Y</th>\n",
       "    </tr>\n",
       "    <tr>\n",
       "      <th>sale_line_type</th>\n",
       "      <th></th>\n",
       "      <th></th>\n",
       "    </tr>\n",
       "  </thead>\n",
       "  <tbody>\n",
       "    <tr>\n",
       "      <th>Discount</th>\n",
       "      <td>41</td>\n",
       "      <td>0</td>\n",
       "    </tr>\n",
       "    <tr>\n",
       "      <th>NonSaleable</th>\n",
       "      <td>3</td>\n",
       "      <td>0</td>\n",
       "    </tr>\n",
       "    <tr>\n",
       "      <th>NonSaleableDiscount</th>\n",
       "      <td>3</td>\n",
       "      <td>0</td>\n",
       "    </tr>\n",
       "    <tr>\n",
       "      <th>Other</th>\n",
       "      <td>248</td>\n",
       "      <td>0</td>\n",
       "    </tr>\n",
       "    <tr>\n",
       "      <th>Sale</th>\n",
       "      <td>0</td>\n",
       "      <td>19</td>\n",
       "    </tr>\n",
       "    <tr>\n",
       "      <th>Shipping</th>\n",
       "      <td>507</td>\n",
       "      <td>0</td>\n",
       "    </tr>\n",
       "    <tr>\n",
       "      <th>ShippingDiscount</th>\n",
       "      <td>179</td>\n",
       "      <td>0</td>\n",
       "    </tr>\n",
       "  </tbody>\n",
       "</table>\n",
       "</div>"
      ],
      "text/plain": [
       "visit_qualifying_flag    N   Y\n",
       "sale_line_type                \n",
       "Discount                41   0\n",
       "NonSaleable              3   0\n",
       "NonSaleableDiscount      3   0\n",
       "Other                  248   0\n",
       "Sale                     0  19\n",
       "Shipping               507   0\n",
       "ShippingDiscount       179   0"
      ]
     },
     "execution_count": 85,
     "metadata": {},
     "output_type": "execute_result"
    }
   ],
   "source": [
    "pd.crosstab(df['sale_line_type'],df['visit_qualifying_flag'])"
   ]
  },
  {
   "cell_type": "markdown",
   "id": "5cec5771",
   "metadata": {},
   "source": [
    "### Here we can see mostly non qualified customers are in shipping sale line type and qualified customers are only in sale line type "
   ]
  },
  {
   "cell_type": "code",
   "execution_count": null,
   "id": "f9d24f91",
   "metadata": {},
   "outputs": [],
   "source": []
  },
  {
   "cell_type": "code",
   "execution_count": null,
   "id": "e25182de",
   "metadata": {},
   "outputs": [],
   "source": []
  }
 ],
 "metadata": {
  "kernelspec": {
   "display_name": "Python 3 (ipykernel)",
   "language": "python",
   "name": "python3"
  },
  "language_info": {
   "codemirror_mode": {
    "name": "ipython",
    "version": 3
   },
   "file_extension": ".py",
   "mimetype": "text/x-python",
   "name": "python",
   "nbconvert_exporter": "python",
   "pygments_lexer": "ipython3",
   "version": "3.9.12"
  }
 },
 "nbformat": 4,
 "nbformat_minor": 5
}
